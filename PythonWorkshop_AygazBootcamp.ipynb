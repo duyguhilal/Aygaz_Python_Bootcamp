{
  "nbformat": 4,
  "nbformat_minor": 0,
  "metadata": {
    "colab": {
      "provenance": [],
      "include_colab_link": true
    },
    "kernelspec": {
      "name": "python3",
      "display_name": "Python 3"
    },
    "language_info": {
      "name": "python"
    }
  },
  "cells": [
    {
      "cell_type": "markdown",
      "metadata": {
        "id": "view-in-github",
        "colab_type": "text"
      },
      "source": [
        "<a href=\"https://colab.research.google.com/github/duyguhilal/Aygaz_Python_Bootcamp/blob/main/PythonWorkshop_AygazBootcamp.ipynb\" target=\"_parent\"><img src=\"https://colab.research.google.com/assets/colab-badge.svg\" alt=\"Open In Colab\"/></a>"
      ]
    },
    {
      "cell_type": "code",
      "execution_count": null,
      "metadata": {
        "colab": {
          "base_uri": "https://localhost:8080/"
        },
        "id": "5bZDjtA4aaPy",
        "outputId": "4dcc7579-7a6f-49af-80c9-34ae976b49dd"
      },
      "outputs": [
        {
          "output_type": "stream",
          "name": "stdout",
          "text": [
            "Hello World\n"
          ]
        }
      ],
      "source": [
        "print(\"Hello World\")"
      ]
    },
    {
      "cell_type": "code",
      "source": [
        "y = 13\n",
        "y = y / 2 * 4\n",
        "y = y // 2\n",
        "print(type(int(y)))"
      ],
      "metadata": {
        "colab": {
          "base_uri": "https://localhost:8080/"
        },
        "id": "SMtO6rhJagr7",
        "outputId": "c45c3248-12ab-4bbd-fea3-414b4f5cf2a8"
      },
      "execution_count": null,
      "outputs": [
        {
          "output_type": "stream",
          "name": "stdout",
          "text": [
            "<class 'int'>\n"
          ]
        }
      ]
    },
    {
      "cell_type": "code",
      "source": [
        "x = \"Ömer Cengiz 21 Şubat 1996 doğumludur. Balık burcudur.\""
      ],
      "metadata": {
        "id": "0iy8eHDOcpjr"
      },
      "execution_count": null,
      "outputs": []
    },
    {
      "cell_type": "code",
      "source": [
        "type(x)"
      ],
      "metadata": {
        "colab": {
          "base_uri": "https://localhost:8080/"
        },
        "id": "_5tmdlSTddAB",
        "outputId": "0b5112ce-3f37-4258-d32a-4c10d598f6bf"
      },
      "execution_count": null,
      "outputs": [
        {
          "output_type": "execute_result",
          "data": {
            "text/plain": [
              "str"
            ]
          },
          "metadata": {},
          "execution_count": 4
        }
      ]
    },
    {
      "cell_type": "code",
      "source": [
        "# Ömer Cengiz Balık burcudur.\n",
        "x = \"Ömer Cengiz 21 Şubat 1996 doğumludur. Balık burcudur.\"\n",
        "x = x[0:11] + x[-16:]\n",
        "print(x)"
      ],
      "metadata": {
        "colab": {
          "base_uri": "https://localhost:8080/"
        },
        "id": "wqLA2xm4dec5",
        "outputId": "20c47c2e-f03e-4114-e469-bb169dd341c1"
      },
      "execution_count": null,
      "outputs": [
        {
          "output_type": "stream",
          "name": "stdout",
          "text": [
            "Ömer Cengiz Balık burcudur.\n"
          ]
        }
      ]
    },
    {
      "cell_type": "code",
      "source": [
        "cost = 180\n",
        "tax = cost * 0.08\n",
        "tip = cost * 0.1\n",
        "total = cost + tax + tip\n",
        "\n",
        "print(f\"The tax is {tax} € and the tip is {tip} €, making the total {total} €\")"
      ],
      "metadata": {
        "colab": {
          "base_uri": "https://localhost:8080/"
        },
        "id": "ls11yVR1d8UB",
        "outputId": "97f5b90a-dbd3-42c4-9efd-f204c30b5376"
      },
      "execution_count": null,
      "outputs": [
        {
          "output_type": "stream",
          "name": "stdout",
          "text": [
            "The tax is 14.4 € and the tip is 18.0 €, making the total 212.4 €\n"
          ]
        }
      ]
    },
    {
      "cell_type": "code",
      "source": [
        "cost = float(input(\"Please enter the cost of the meal: \"))\n",
        "tax = cost * 0.08\n",
        "tip = cost * 0.1\n",
        "total = cost + tax + tip\n",
        "\n",
        "print(f\"The tax is {tax} € and the tip is {tip} €, making the total {total} €\")"
      ],
      "metadata": {
        "colab": {
          "base_uri": "https://localhost:8080/"
        },
        "id": "EQ1VP7ecgx3L",
        "outputId": "efbd74dc-7c6d-4169-f327-d45dedc5f578"
      },
      "execution_count": null,
      "outputs": [
        {
          "output_type": "stream",
          "name": "stdout",
          "text": [
            "Please enter the cost of the meal: 15\n",
            "The tax is 1.2 € and the tip is 1.5 €, making the total 17.7 €\n"
          ]
        }
      ]
    },
    {
      "cell_type": "code",
      "source": [
        "#Kullanıcı Giriş Uygulaması\n",
        "print(\"*************************ATM Giriş Paneli*************************\")\n",
        "\n",
        "kullanici_adi = \"Omer\"\n",
        "parola = \"hello\"\n",
        "\n",
        "input_data_username = input(\"Lütfen Kullanıcı adınızı giriniz: \")\n",
        "input_data_password = input(\"Lütfen parolanızı giriniz: \")\n",
        "\n",
        "if kullanici_adi != input_data_username and parola == input_data_password:\n",
        "  print(\"Kullanıcı adınız hatalı...\")\n",
        "elif kullanici_adi == input_data_username and parola != input_data_password:\n",
        "  print(\"Parolanız hatalı...\")\n",
        "elif kullanici_adi != input_data_username and parola != input_data_password:\n",
        "  print(\"Kulllanıcı adınız ve parolanız hatalı...\")\n",
        "else:\n",
        "  print(\"Tebrikler, başarıyla giriş yaptınız...\")"
      ],
      "metadata": {
        "colab": {
          "base_uri": "https://localhost:8080/"
        },
        "id": "mLeCX-klhP4y",
        "outputId": "946c90fe-c421-4dca-cd6f-002e1f10ee36"
      },
      "execution_count": null,
      "outputs": [
        {
          "output_type": "stream",
          "name": "stdout",
          "text": [
            "*************************ATM Giriş Paneli*************************\n"
          ]
        }
      ]
    },
    {
      "cell_type": "code",
      "source": [
        "def function_operation(a, b):\n",
        "  return a * 2 + b\n",
        "\n",
        "def function_operation2(c, d):\n",
        "  return 2 ** c * d"
      ],
      "metadata": {
        "id": "x4IB4pvEjaOT"
      },
      "execution_count": null,
      "outputs": []
    },
    {
      "cell_type": "code",
      "source": [
        "function_operation(3, 4) + function_operation2(9, 2)"
      ],
      "metadata": {
        "id": "K13EGcM5nWIM"
      },
      "execution_count": null,
      "outputs": []
    },
    {
      "cell_type": "code",
      "source": [],
      "metadata": {
        "id": "8sPILH2PnqlF"
      },
      "execution_count": null,
      "outputs": []
    }
  ]
}