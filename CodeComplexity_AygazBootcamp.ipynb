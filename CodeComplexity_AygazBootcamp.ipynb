{
  "nbformat": 4,
  "nbformat_minor": 0,
  "metadata": {
    "colab": {
      "provenance": [],
      "include_colab_link": true
    },
    "kernelspec": {
      "name": "python3",
      "display_name": "Python 3"
    },
    "language_info": {
      "name": "python"
    }
  },
  "cells": [
    {
      "cell_type": "markdown",
      "metadata": {
        "id": "view-in-github",
        "colab_type": "text"
      },
      "source": [
        "<a href=\"https://colab.research.google.com/github/duyguhilal/Aygaz_Python_Bootcamp/blob/main/CodeComplexity_AygazBootcamp.ipynb\" target=\"_parent\"><img src=\"https://colab.research.google.com/assets/colab-badge.svg\" alt=\"Open In Colab\"/></a>"
      ]
    },
    {
      "cell_type": "code",
      "execution_count": null,
      "metadata": {
        "id": "TP9to3XW36TT"
      },
      "outputs": [],
      "source": [
        "def multiplication(x, y):\n",
        "  return x * y"
      ]
    },
    {
      "cell_type": "code",
      "source": [
        "multiplication(10, 15000)"
      ],
      "metadata": {
        "colab": {
          "base_uri": "https://localhost:8080/"
        },
        "id": "Lgac-fCh5ajY",
        "outputId": "f6c5070d-e371-4117-fc47-8916c095aca1"
      },
      "execution_count": null,
      "outputs": [
        {
          "output_type": "execute_result",
          "data": {
            "text/plain": [
              "150000"
            ]
          },
          "metadata": {},
          "execution_count": 2
        }
      ]
    },
    {
      "cell_type": "code",
      "source": [
        "# Problem: 1'den n'e kadar tüm sayıların karesini alıp toplasın.\n",
        "# Çözüm:\n",
        "def square_sum(n):\n",
        "  sum_variable = 0\n",
        "  for x in range(1, n+1):\n",
        "    sum_variable += x ** 2\n",
        "  return sum_variable"
      ],
      "metadata": {
        "id": "rKK_4pPj5hO9"
      },
      "execution_count": null,
      "outputs": []
    },
    {
      "cell_type": "code",
      "source": [
        "square_sum(3)"
      ],
      "metadata": {
        "colab": {
          "base_uri": "https://localhost:8080/"
        },
        "id": "GMWpHCYa6-YG",
        "outputId": "b17b7127-0217-4aed-fc38-662bddbd908a"
      },
      "execution_count": null,
      "outputs": [
        {
          "output_type": "execute_result",
          "data": {
            "text/plain": [
              "14"
            ]
          },
          "metadata": {},
          "execution_count": 4
        }
      ]
    },
    {
      "cell_type": "code",
      "source": [
        "def square_sum2(n):\n",
        "  return n * (n + 1) * (2*n + 1) // 6"
      ],
      "metadata": {
        "id": "Lkge1utJ7BJV"
      },
      "execution_count": null,
      "outputs": []
    },
    {
      "cell_type": "code",
      "source": [
        "square_sum2(3)"
      ],
      "metadata": {
        "colab": {
          "base_uri": "https://localhost:8080/"
        },
        "id": "RnY8xXv48Hc5",
        "outputId": "5414d83a-9565-4d5f-e261-c2f59f20b389"
      },
      "execution_count": null,
      "outputs": [
        {
          "output_type": "execute_result",
          "data": {
            "text/plain": [
              "14"
            ]
          },
          "metadata": {},
          "execution_count": 6
        }
      ]
    },
    {
      "cell_type": "code",
      "source": [
        "%timeit square_sum(5) "
      ],
      "metadata": {
        "colab": {
          "base_uri": "https://localhost:8080/"
        },
        "id": "DuBuBr238Jyf",
        "outputId": "fc220170-f30c-437f-9588-19d7327af6db"
      },
      "execution_count": null,
      "outputs": [
        {
          "output_type": "stream",
          "name": "stdout",
          "text": [
            "2.77 µs ± 439 ns per loop (mean ± std. dev. of 7 runs, 100000 loops each)\n"
          ]
        }
      ]
    },
    {
      "cell_type": "code",
      "source": [
        "%timeit square_sum2(5) "
      ],
      "metadata": {
        "colab": {
          "base_uri": "https://localhost:8080/"
        },
        "id": "rQhIXfmt8x5g",
        "outputId": "b08be661-29c4-41ae-ffd1-4c510007f901"
      },
      "execution_count": null,
      "outputs": [
        {
          "output_type": "stream",
          "name": "stdout",
          "text": [
            "654 ns ± 259 ns per loop (mean ± std. dev. of 7 runs, 1000000 loops each)\n"
          ]
        }
      ]
    },
    {
      "cell_type": "code",
      "source": [
        "# O(1) Constant\n",
        "# O(10000)\n",
        "\n",
        "def contant_big_o(liste):\n",
        "  print(liste[0])"
      ],
      "metadata": {
        "id": "A0Isn3B38_Pn"
      },
      "execution_count": null,
      "outputs": []
    },
    {
      "cell_type": "code",
      "source": [
        "contant_big_o([1,2,3,4,5,6,7,8,9,10])"
      ],
      "metadata": {
        "colab": {
          "base_uri": "https://localhost:8080/"
        },
        "id": "oUuBd4ERDrWi",
        "outputId": "50e18dd1-f9ba-44a6-dba2-42757b627be3"
      },
      "execution_count": null,
      "outputs": [
        {
          "output_type": "stream",
          "name": "stdout",
          "text": [
            "1\n"
          ]
        }
      ]
    },
    {
      "cell_type": "code",
      "source": [
        "# O(n) Linear\n",
        "def linear_big_o(liste):\n",
        "  for value in liste:\n",
        "    print(value)"
      ],
      "metadata": {
        "id": "9c9bi-F5Dy9I"
      },
      "execution_count": null,
      "outputs": []
    },
    {
      "cell_type": "code",
      "source": [
        "linear_big_o([1,2,3,4,5])"
      ],
      "metadata": {
        "colab": {
          "base_uri": "https://localhost:8080/"
        },
        "id": "CsKN1DPXEbgw",
        "outputId": "ddf7d653-11c4-4404-b390-9d01099c706b"
      },
      "execution_count": null,
      "outputs": [
        {
          "output_type": "stream",
          "name": "stdout",
          "text": [
            "1\n",
            "2\n",
            "3\n",
            "4\n",
            "5\n"
          ]
        }
      ]
    },
    {
      "cell_type": "code",
      "source": [
        "#O(n^2) \n",
        "def find_duplicates(liste):\n",
        "  for i in range(len(liste)):\n",
        "    for j in range(i+1, len(liste)):\n",
        "      if liste[i] == liste[j]:\n",
        "        return True\n",
        "  return False"
      ],
      "metadata": {
        "id": "1EGgKh8HFCpV"
      },
      "execution_count": null,
      "outputs": []
    },
    {
      "cell_type": "code",
      "source": [
        "find_duplicates([1,2,3,4,5,6,6])"
      ],
      "metadata": {
        "colab": {
          "base_uri": "https://localhost:8080/"
        },
        "id": "te11YBGMFVw8",
        "outputId": "a07f717d-fc6c-4ae6-d953-38531dcfda46"
      },
      "execution_count": null,
      "outputs": [
        {
          "output_type": "execute_result",
          "data": {
            "text/plain": [
              "True"
            ]
          },
          "metadata": {},
          "execution_count": 14
        }
      ]
    },
    {
      "cell_type": "code",
      "source": [
        "# O(n^3) Cubic\n",
        "def cubic_big_o(liste):\n",
        "  for item_1 in liste:\n",
        "    for item_2 in liste:\n",
        "      for item_3 in liste:\n",
        "        print(item_1, item_2, item_3)"
      ],
      "metadata": {
        "id": "k13YwkAeEgEn"
      },
      "execution_count": null,
      "outputs": []
    },
    {
      "cell_type": "code",
      "source": [
        "cubic_big_o([1,2,3])"
      ],
      "metadata": {
        "colab": {
          "base_uri": "https://localhost:8080/"
        },
        "id": "oIVN1SRAF1wR",
        "outputId": "b3f69b16-2c38-4a23-8c5f-af426cef7dea"
      },
      "execution_count": null,
      "outputs": [
        {
          "output_type": "stream",
          "name": "stdout",
          "text": [
            "1 1 1\n",
            "1 1 2\n",
            "1 1 3\n",
            "1 2 1\n",
            "1 2 2\n",
            "1 2 3\n",
            "1 3 1\n",
            "1 3 2\n",
            "1 3 3\n",
            "2 1 1\n",
            "2 1 2\n",
            "2 1 3\n",
            "2 2 1\n",
            "2 2 2\n",
            "2 2 3\n",
            "2 3 1\n",
            "2 3 2\n",
            "2 3 3\n",
            "3 1 1\n",
            "3 1 2\n",
            "3 1 3\n",
            "3 2 1\n",
            "3 2 2\n",
            "3 2 3\n",
            "3 3 1\n",
            "3 3 2\n",
            "3 3 3\n"
          ]
        }
      ]
    },
    {
      "cell_type": "code",
      "source": [
        "def linear_big_o(liste):\n",
        "  for value in liste:\n",
        "    print(value)\n",
        "  for value in liste:\n",
        "    print(value)"
      ],
      "metadata": {
        "id": "QpoKiQNxF419"
      },
      "execution_count": null,
      "outputs": []
    },
    {
      "cell_type": "code",
      "source": [
        "linear_big_o([1,2,3,4]) #O(n) + O(n) = O(2n) ->O(n)"
      ],
      "metadata": {
        "colab": {
          "base_uri": "https://localhost:8080/"
        },
        "id": "QdKd6IAiGTSQ",
        "outputId": "306fd2a9-c31d-4916-aba9-7e2dbdd52fca"
      },
      "execution_count": null,
      "outputs": [
        {
          "output_type": "stream",
          "name": "stdout",
          "text": [
            "1\n",
            "2\n",
            "3\n",
            "4\n",
            "1\n",
            "2\n",
            "3\n",
            "4\n"
          ]
        }
      ]
    },
    {
      "cell_type": "code",
      "source": [],
      "metadata": {
        "id": "WZoiPncBGWFJ"
      },
      "execution_count": null,
      "outputs": []
    }
  ]
}